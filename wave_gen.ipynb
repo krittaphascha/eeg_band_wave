{
 "cells": [
  {
   "cell_type": "code",
   "execution_count": 2,
   "metadata": {},
   "outputs": [],
   "source": [
    "import numpy as np\n",
    "import matplotlib.pyplot as plt\n",
    "from wave_generator import generating_signal_batchs, sine_wave_generator\n",
    "from utils import visualize_signal"
   ]
  },
  {
   "cell_type": "code",
   "execution_count": 3,
   "metadata": {},
   "outputs": [],
   "source": [
    "delta_waves = generating_signal_batchs(sine_wave_generator, 1000, 8, 200, 30, 'delta', white_noise=0.2)\n",
    "theta_waves = generating_signal_batchs(sine_wave_generator, 1000, 8, 200, 30, 'theta', white_noise=0.2)\n",
    "alpha_waves = generating_signal_batchs(sine_wave_generator, 1000, 8, 200, 30, 'alpha', white_noise=0.2)\n",
    "beta_waves = generating_signal_batchs(sine_wave_generator, 1000, 8, 200, 30, 'beta',   white_noise=0.2)\n",
    "gamma_waves = generating_signal_batchs(sine_wave_generator, 1000, 8, 200, 30, 'gamma', white_noise=0.2)"
   ]
  },
  {
   "cell_type": "code",
   "execution_count": 5,
   "metadata": {},
   "outputs": [],
   "source": [
    "delta_labels = 0* np.ones((delta_waves.shape[0], 1))\n",
    "theta_labels = 1* np.ones((theta_waves.shape[0], 1)) \n",
    "alpha_labels = 2* np.ones((alpha_waves.shape[0], 1))\n",
    "beta_labels = 3* np.ones((beta_waves.shape[0], 1))\n",
    "gamma_labels = 4* np.ones((gamma_waves.shape[0], 1))\n"
   ]
  },
  {
   "cell_type": "code",
   "execution_count": null,
   "metadata": {},
   "outputs": [],
   "source": []
  }
 ],
 "metadata": {
  "kernelspec": {
   "display_name": "Python 3",
   "language": "python",
   "name": "python3"
  },
  "language_info": {
   "codemirror_mode": {
    "name": "ipython",
    "version": 3
   },
   "file_extension": ".py",
   "mimetype": "text/x-python",
   "name": "python",
   "nbconvert_exporter": "python",
   "pygments_lexer": "ipython3",
   "version": "3.10.8"
  }
 },
 "nbformat": 4,
 "nbformat_minor": 2
}
